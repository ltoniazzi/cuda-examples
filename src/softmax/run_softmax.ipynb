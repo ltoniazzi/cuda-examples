{
 "cells": [
  {
   "cell_type": "markdown",
   "metadata": {},
   "source": [
    "# Softman\n",
    "\n",
    "## Python cuda looking implementation"
   ]
  },
  {
   "cell_type": "code",
   "execution_count": 1,
   "metadata": {},
   "outputs": [],
   "source": [
    "import sys\n",
    "from pathlib import Path\n",
    "\n",
    "# Add the parent directory of the current notebook to sys.path\n",
    "cur_dir = Path().resolve()\n",
    "parent_dir = cur_dir.parent\n",
    "sys.path += [str(parent_dir), str(cur_dir)]\n",
    "from utils import cdiv, get_sig, load_cuda\n",
    "from collections import namedtuple\n",
    "import torch\n",
    "from softmax_py import  softmax_py"
   ]
  },
  {
   "cell_type": "code",
   "execution_count": 2,
   "metadata": {},
   "outputs": [
    {
     "data": {
      "text/plain": [
       "True"
      ]
     },
     "execution_count": 2,
     "metadata": {},
     "output_type": "execute_result"
    }
   ],
   "source": [
    "\n",
    "\n",
    "\n",
    "V = torch.randn(32, dtype=torch.float32)\n",
    "\n",
    "O = softmax_py(V)\n",
    "# print(\"Softmax output:\", O)\n",
    "\n",
    "O_torch = torch.softmax(V, dim=0)\n",
    "torch.allclose(O, O_torch, atol=1e-4)\n"
   ]
  },
  {
   "cell_type": "code",
   "execution_count": 3,
   "metadata": {},
   "outputs": [
    {
     "data": {
      "text/plain": [
       "tensor([0.0365, 0.0073, 0.0167, 0.0110, 0.1173, 0.0629, 0.0379])"
      ]
     },
     "execution_count": 3,
     "metadata": {},
     "output_type": "execute_result"
    }
   ],
   "source": [
    "O_torch[:7]"
   ]
  },
  {
   "cell_type": "code",
   "execution_count": 4,
   "metadata": {},
   "outputs": [
    {
     "data": {
      "text/plain": [
       "tensor([0.0365, 0.0073, 0.0167, 0.0110, 0.1173, 0.0629, 0.0379])"
      ]
     },
     "execution_count": 4,
     "metadata": {},
     "output_type": "execute_result"
    }
   ],
   "source": [
    "O[:7]"
   ]
  },
  {
   "cell_type": "markdown",
   "metadata": {},
   "source": [
    "# Cuda "
   ]
  },
  {
   "cell_type": "code",
   "execution_count": 5,
   "metadata": {},
   "outputs": [],
   "source": [
    "cuda_source_path = \"./softmax.cu\"\n",
    "fname = \"softmax\"\n",
    "cuda_source = Path(cuda_source_path).read_text()\n",
    "cpp_source = get_sig(fname, cuda_source)\n",
    "# print(cpp_source)\n",
    "module = load_cuda(cuda_source, cpp_source, funcs=[fname])"
   ]
  },
  {
   "cell_type": "code",
   "execution_count": null,
   "metadata": {},
   "outputs": [
    {
     "ename": "NameError",
     "evalue": "name 'torch' is not defined",
     "output_type": "error",
     "traceback": [
      "\u001b[31m---------------------------------------------------------------------------\u001b[39m",
      "\u001b[31mNameError\u001b[39m                                 Traceback (most recent call last)",
      "\u001b[36mCell\u001b[39m\u001b[36m \u001b[39m\u001b[32mIn[1]\u001b[39m\u001b[32m, line 2\u001b[39m\n\u001b[32m      1\u001b[39m D = \u001b[32m16\u001b[39m\n\u001b[32m----> \u001b[39m\u001b[32m2\u001b[39m V = \u001b[43mtorch\u001b[49m.randn(D).contiguous().cuda()\n\u001b[32m      3\u001b[39m O = \u001b[38;5;28mgetattr\u001b[39m(module, fname)(A, B)\n\u001b[32m      4\u001b[39m O_torch = torch.softmax(V)\n",
      "\u001b[31mNameError\u001b[39m: name 'torch' is not defined"
     ]
    }
   ],
   "source": [
    "%%timeit -n 10\n",
    "D = 16\n",
    "V = torch.randn(D).contiguous().cuda()\n",
    "O = getattr(module, fname)(V)\n",
    "O_torch = torch.softmax(V)\n",
    "assert torch.allclose(O, O_torch, atol=1e-4) "
   ]
  },
  {
   "cell_type": "code",
   "execution_count": null,
   "metadata": {},
   "outputs": [],
   "source": []
  }
 ],
 "metadata": {
  "kernelspec": {
   "display_name": ".venv",
   "language": "python",
   "name": "python3"
  },
  "language_info": {
   "codemirror_mode": {
    "name": "ipython",
    "version": 3
   },
   "file_extension": ".py",
   "mimetype": "text/x-python",
   "name": "python",
   "nbconvert_exporter": "python",
   "pygments_lexer": "ipython3",
   "version": "3.12.9"
  }
 },
 "nbformat": 4,
 "nbformat_minor": 2
}
