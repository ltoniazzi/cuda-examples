{
 "cells": [
  {
   "cell_type": "markdown",
   "metadata": {},
   "source": []
  },
  {
   "cell_type": "code",
   "execution_count": 2,
   "metadata": {},
   "outputs": [
    {
     "data": {
      "text/plain": [
       "False"
      ]
     },
     "execution_count": 2,
     "metadata": {},
     "output_type": "execute_result"
    }
   ],
   "source": [
    "from collections import namedtuple\n",
    "import torch\n",
    "dim3 = namedtuple('dim3', ['x','y','z'], defaults=(1,1))\n",
    "\n",
    "def softmax_kernel(blockId: dim3, blockDim: dim3, threadId, V: torch.Tensor, O: torch.Tensor, s: int):\n",
    "    \"\"\"\n",
    "    Compute softmax of V using O as the output tensor.\n",
    "    \"\"\"\n",
    "    res = 0.0\n",
    "    tot = 0.0\n",
    "    location = blockId.x*blockDim.x + threadId.x\n",
    "\n",
    "    if location >= s:\n",
    "        return\n",
    "\n",
    "    for i in range(s):\n",
    "        cur = V[i] # s reads * s threads\n",
    "        cur = torch.exp(cur) # s exp * s threads\n",
    "        tot += cur # s sum * s threads\n",
    "        if i == location:\n",
    "            res = cur\n",
    "        \n",
    "\n",
    "    res = res/tot  # 1 div * s threads\n",
    "\n",
    "    O[location] = res # 1 write * s threads\n",
    "\n",
    "\n",
    "def cdiv(a, b):\n",
    "    return (a + b - 1) // b\n",
    "\n",
    "def blk_kernel1d(f, blocks, threads, *args):\n",
    "        for i1 in range(blocks.x):\n",
    "                for j1 in range(threads.x): \n",
    "                    f(dim3(i1), dim3(j1), threads, *args)\n",
    "     \n",
    "def softmax(V): \n",
    "    s = V.shape[0]\n",
    "    tpb = 32  # threads per block\n",
    "    threads = dim3(tpb, 1, 1)\n",
    "    blocks = dim3(cdiv(s, tpb), 1, 1)\n",
    "    O = torch.zeros_like(V, dtype=torch.float32)\n",
    "\n",
    "    blk_kernel1d(\n",
    "         softmax_kernel, blocks, threads, V, O, s)\n",
    "\n",
    "    return O\n",
    "\n",
    "V = torch.randn(32, dtype=torch.float32)\n",
    "\n",
    "O = softmax(V)\n",
    "# print(\"Softmax output:\", O)\n",
    "\n",
    "O_torch = torch.softmax(V, dim=0)\n",
    "torch.allclose(O, O_torch, atol=1e-4)\n"
   ]
  },
  {
   "cell_type": "code",
   "execution_count": 3,
   "metadata": {},
   "outputs": [
    {
     "data": {
      "text/plain": [
       "tensor([0.0175, 0.0661, 0.0389, 0.0158, 0.0126, 0.0118, 0.0034, 0.0843, 0.0199,\n",
       "        0.0745, 0.0192, 0.0728, 0.0136, 0.0289, 0.0175, 0.0152, 0.0425, 0.0418,\n",
       "        0.0217, 0.0847, 0.0103, 0.0698, 0.0412, 0.0042, 0.0117, 0.0195, 0.0075,\n",
       "        0.0091, 0.0493, 0.0424, 0.0044, 0.0279])"
      ]
     },
     "execution_count": 3,
     "metadata": {},
     "output_type": "execute_result"
    }
   ],
   "source": [
    "O_torch"
   ]
  },
  {
   "cell_type": "code",
   "execution_count": 4,
   "metadata": {},
   "outputs": [
    {
     "data": {
      "text/plain": [
       "tensor([0., 0., 0., 0., 0., 0., 0., 0., 0., 0., 0., 0., 0., 0., 0., 0., 0., 0., 0., 0., 0., 0., 0., 0.,\n",
       "        0., 0., 0., 0., 0., 0., 0., 0.])"
      ]
     },
     "execution_count": 4,
     "metadata": {},
     "output_type": "execute_result"
    }
   ],
   "source": [
    "O"
   ]
  },
  {
   "cell_type": "code",
   "execution_count": null,
   "metadata": {},
   "outputs": [],
   "source": []
  }
 ],
 "metadata": {
  "kernelspec": {
   "display_name": ".venv",
   "language": "python",
   "name": "python3"
  },
  "language_info": {
   "codemirror_mode": {
    "name": "ipython",
    "version": 3
   },
   "file_extension": ".py",
   "mimetype": "text/x-python",
   "name": "python",
   "nbconvert_exporter": "python",
   "pygments_lexer": "ipython3",
   "version": "3.12.3"
  }
 },
 "nbformat": 4,
 "nbformat_minor": 2
}
