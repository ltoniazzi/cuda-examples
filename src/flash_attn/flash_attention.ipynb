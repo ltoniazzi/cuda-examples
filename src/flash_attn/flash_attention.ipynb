{
 "cells": [
  {
   "cell_type": "markdown",
   "metadata": {},
   "source": [
    "# Flash attention in python, numba and cuda"
   ]
  },
  {
   "cell_type": "code",
   "execution_count": 2,
   "metadata": {},
   "outputs": [],
   "source": [
    "from numba import cuda\n",
    "from numba.cuda import as_cuda_array as ca\n",
    "import numpy as np\n",
    "import math\n",
    "import torch\n",
    "\n",
    "def cdiv(a,b):\n",
    "    \"Int ceiling division of `a` over `b`\"\n",
    "    return (a+b-1)//b\n",
    "\n",
    "import os\n"
   ]
  },
  {
   "cell_type": "markdown",
   "metadata": {},
   "source": [
    "# Pure python"
   ]
  },
  {
   "cell_type": "code",
   "execution_count": 3,
   "metadata": {},
   "outputs": [],
   "source": [
    "import torch, math\n",
    "\n",
    "def flash_attention_numpy(Q, K, V, O, N_inp, N_out, d) -> None:\n",
    "    \"\"\"Forward algo from https://arxiv.org/pdf/2307.08691\n",
    "    \"\"\"\n",
    "\n",
    "    B_c = min(16, N_inp)\n",
    "    B_r = min(16, N_out)\n",
    "    T_c = (N_inp + B_c - 1) // B_c\n",
    "    T_r = (N_out + B_r - 1) // B_r\n",
    "\n",
    "    scale_factor = 1 / math.sqrt(Q.size(-1))\n",
    "\n",
    "    # Q and O L split into T_r; K, V in T_c blocks\n",
    "    for i in range(T_r):\n",
    "        Q_i = Q[i * B_r : (i + 1) * B_r]\n",
    "        O_i = torch.zeros(B_r, d)\n",
    "        L_i = torch.zeros(B_r, 1)\n",
    "        m_i = torch.full((B_r, 1), -math.inf)\n",
    "        last_m_i = m_i\n",
    "        for j in range(T_c):\n",
    "            K_j = K[j * B_c : (j + 1) * B_c]\n",
    "            V_j = V[j * B_c : (j + 1) * B_c]\n",
    "            S_i = scale_factor * (Q_i @ K_j.T)\n",
    "            m_i = torch.maximum(m_i, S_i.max(dim=-1, keepdim=True).values)\n",
    "            P_i = torch.exp(S_i - m_i)\n",
    "            L_i = torch.exp(last_m_i - m_i) * L_i + P_i.sum(dim=-1, keepdim=True)\n",
    "            O_i = torch.exp(last_m_i - m_i) * O_i + P_i @ V_j\n",
    "            last_m_i = m_i\n",
    "        O_i = (1.0 / L_i) * O_i\n",
    "        L_i = m_i + torch.log(L_i)\n",
    "        O[i * B_r : (i + 1) * B_r] = O_i\n",
    "        L[i * B_r : (i + 1) * B_r] = L_i"
   ]
  },
  {
   "cell_type": "code",
   "execution_count": 6,
   "metadata": {},
   "outputs": [
    {
     "name": "stdout",
     "output_type": "stream",
     "text": [
      "Max absolute difference:  tensor(3.5763e-07)\n"
     ]
    }
   ],
   "source": [
    "# Run numpy \n",
    "N_inp = 16\n",
    "N_out = 16\n",
    "d = 32\n",
    "Q = torch.randn(N_out, d)\n",
    "K = torch.randn(N_inp, d)\n",
    "V = torch.randn(N_inp, d)\n",
    "O = torch.zeros(N_out, d)\n",
    "L = torch.zeros(N_out, 1)\n",
    "\n",
    "flash_attention_numpy(Q, K, V, O, N_inp, N_out, d)\n",
    "\n",
    "expected = torch.softmax(Q @ K.T / math.sqrt(d), dim=-1) @ V\n",
    "\n",
    "print(\"Max absolute difference: \", (O-expected).abs().max())"
   ]
  },
  {
   "cell_type": "markdown",
   "metadata": {},
   "source": [
    "## Numba"
   ]
  },
  {
   "cell_type": "code",
   "execution_count": 57,
   "metadata": {},
   "outputs": [],
   "source": [
    "import numba\n",
    "\n",
    "@cuda.jit\n",
    "def attention(Q, K, V, scale_factor: numba.float32, L, O):\n",
    "    B_c = 16\n",
    "    B_r = 16\n",
    "    T_c = (N_inp + B_c - 1) // B_c\n",
    "    T_r = (N_out + B_r - 1) // B_r\n",
    "    inp_dtype = K.dtype\n",
    "    tid_x = numba.cuda.threadIdx.x\n",
    "    tid_y = numba.cuda.threadIdx.y\n",
    "\n",
    "    Q_i = numba.cuda.shared.array((B_r, d), inp_dtype)\n",
    "    K_j = numba.cuda.shared.array((B_c, d), inp_dtype)\n",
    "    V_j = numba.cuda.shared.array((B_c, d), inp_dtype)\n",
    "\n",
    "    O_i = numba.cuda.shared.array((B_r, d), inp_dtype)\n",
    "    l_i = numba.cuda.shared.array((B_r,), inp_dtype)\n",
    "    m_i = numba.cuda.shared.array((B_r,), inp_dtype)\n",
    "    S_i = numba.cuda.shared.array((B_c,), inp_dtype)\n",
    "\n",
    "    for i in range(T_r):\n",
    "        for ii in range(tid_y, B_r, numba.cuda.blockDim.y):\n",
    "            for dd in range(tid_x, d, numba.cuda.blockDim.x):\n",
    "                Q_i[ii, dd] = Q[ii + i * B_r, dd]\n",
    "                O_i[ii, dd] = 0\n",
    "            l_i[ii] = 0\n",
    "            m_i[ii] = -math.inf\n",
    "        numba.cuda.syncthreads()\n",
    "\n",
    "        for j in range(T_c):\n",
    "            for jj in range(tid_y, B_c, numba.cuda.blockDim.y):\n",
    "                for dd in range(tid_x, d, numba.cuda.blockDim.x):\n",
    "                    K_j[jj, dd] = K[jj + j * B_c, dd]\n",
    "                    V_j[jj, dd] = V[jj + j * B_c, dd]\n",
    "\n",
    "            # S_i = scale_factor * (O_i @ K_j.T)\n",
    "            for ii in range(tid_x, B_r, numba.cuda.blockDim.x):\n",
    "                numba.cuda.syncthreads()\n",
    "                for jj in range(tid_y, B_c, numba.cuda.blockDim.y):\n",
    "                    S_ij = 0\n",
    "                    for dd in range(d):\n",
    "                        S_ij += Q_i[ii, dd] * K_j[jj, dd]\n",
    "                    S_ij = scale_factor * S_ij\n",
    "                    S_i[jj] = S_ij\n",
    "\n",
    "                # torch.maximum(m_i, S_i.max(dim=-1, keepdim=True).values)\n",
    "                # this needs to use the parallel reduction pattern\n",
    "                numba.cuda.syncthreads()\n",
    "                m = m_i[ii]\n",
    "                last_m = m\n",
    "                for jj in range(B_c):\n",
    "                    m = max(m, S_i[jj])\n",
    "                m_i[ii] = m\n",
    "                l = math.exp(last_m - m) * l_i[ii]\n",
    "\n",
    "                for dd in range(d):\n",
    "                    O_i[ii, dd] *= math.exp(last_m - m)\n",
    "                for jj in range(B_c):\n",
    "                    S_i[jj] = math.exp(S_i[jj] - m)  # Cache...\n",
    "                    l += S_i[jj]\n",
    "                    for dd in range(d):\n",
    "                        O_i[ii, dd] += S_i[jj] * V_j[jj, dd]\n",
    "                l_i[ii] = l\n",
    "                \n",
    "                for ii in range(tid_y, B_r, numba.cuda.blockDim.y):\n",
    "                    for dd in range(tid_x, d, numba.cuda.blockDim.x):\n",
    "                        O[ii + i * B_r, dd] = O_i[ii, dd] / l_i[ii]\n",
    "                    L[ii + i * B_r] = l_i[ii]    \n"
   ]
  },
  {
   "cell_type": "code",
   "execution_count": 58,
   "metadata": {},
   "outputs": [],
   "source": [
    "N_inp = 64\n",
    "N_out = 64\n",
    "d = 128\n",
    "Q = torch.randn(N_out, d)\n",
    "K = torch.randn(N_inp, d)\n",
    "V = torch.randn(N_inp, d)\n",
    "O2 = torch.zeros(N_out, d, device=\"cuda\")\n",
    "L2 = torch.zeros(N_out, device=\"cuda\")\n",
    "Kc = K.to(\"cuda\")\n",
    "Qc = Q.to(\"cuda\")\n",
    "Vc = V.to(\"cuda\")\n",
    "scale_factor = 1/math.sqrt(d)\n",
    "attention[(32, 4), (1,)](Qc, Kc, Vc, scale_factor, L2, O2)"
   ]
  },
  {
   "cell_type": "code",
   "execution_count": 59,
   "metadata": {},
   "outputs": [
    {
     "name": "stdout",
     "output_type": "stream",
     "text": [
      "Max absolute difference:  tensor(5.9605e-07)\n"
     ]
    }
   ],
   "source": [
    "expected = torch.softmax(Q @ K.T / math.sqrt(d), dim=-1) @ V\n",
    "print(\"Max absolute difference: \", (O2.cpu()-expected).abs().max())"
   ]
  },
  {
   "cell_type": "code",
   "execution_count": 78,
   "metadata": {},
   "outputs": [
    {
     "name": "stderr",
     "output_type": "stream",
     "text": [
      "/opt/conda/lib/python3.12/site-packages/numba/cuda/dispatcher.py:536: NumbaPerformanceWarning: \u001b[1mGrid size 4 will likely result in GPU under-utilization due to low occupancy.\u001b[0m\n",
      "  warn(NumbaPerformanceWarning(msg))\n"
     ]
    },
    {
     "name": "stdout",
     "output_type": "stream",
     "text": [
      "Mismatch\n",
      "\n",
      "tensor([[0., 0., 0., 0.],\n",
      "        [0., 0., 0., 0.]], device='cuda:0')\n",
      "\n",
      "tensor([[0.4583, 0.2336, 0.3260, 0.7613],\n",
      "        [0.4511, 0.2400, 0.3714, 0.7489]], device='cuda:0')\n"
     ]
    }
   ],
   "source": [
    "@cuda.jit\n",
    "def flash_attention_k_numba(Q, K, V, O, N_inp, N_out, d):\n",
    "    # 1D block of size d for Q\n",
    "    # K and V are not transponse\n",
    "    # Block is B_r x d (while for K, V we want B_c x d)\n",
    "    cbi, cbd, tid = cuda.blockIdx, cuda.blockDim, cuda.threadIdx\n",
    "    tc = tid.x\n",
    "    tr = tid.y\n",
    "    r = cbi.y * cbd.y + tr\n",
    "    c = cbi.x * cbd.x + tc\n",
    "\n",
    "    B_r: int = 1\n",
    "    T_r = math.ceil(N_out/B_r)\n",
    "    B_c: int = 1\n",
    "    T_c = math.ceil(N_inp/B_c)\n",
    "\n",
    "\n",
    "    shar = cuda.shared.array(0, dtype=np.float32)\n",
    "    Qs = shar[: B_r * d]\n",
    "    Ks = shar[B_r * d: (B_r * d) + d * B_c]\n",
    "    Vs = shar[(B_r * d) + d * B_c: (B_r * d) + (d * B_c)*2]\n",
    "    Ss = shar[(B_r * d) + (d * B_c) * 2: (B_r * d) + (d * B_c)*2 + B_r * B_c]\n",
    "    Ps = shar[(B_r * d) + (d * B_c) * 2 + B_r * B_c:  2*(B_r * d) + (d * B_c) * 2 + B_r * B_c]\n",
    "    Os = shar[2 * (B_r * d) + (d * B_c) * 2 + B_r * B_c: 3 * (B_r * d) + (d * B_c) * 2 + B_r * B_c]\n",
    "\n",
    "\n",
    "    L_i = torch.zeros(B_r, 1)\n",
    "    m_i = torch.full((B_r, 1), -math.inf)\n",
    "    last_m_i = torch.full((B_r, 1), -math.inf)\n",
    "\n",
    "    # Load Qs on chip\n",
    "    Qs[tr * cbd.x + tc ] = Q[r, c] if r < N and c < d else 0.\n",
    "    cuda.syncthreads()\n",
    "\n",
    "    for j in range(T_c):\n",
    "        # Columns loaded contigously (column major/transpose)\n",
    "        Ks[j*d + tc] = K[c, j * B_c + tc] if c < d and j * B_c + tc < d else 0.\n",
    "        Vs[j*d + tc] = V[c, j * B_c + tc] if c < d and j * B_c + tc < d else 0.\n",
    "        cuda.syncthreads()\n",
    "        # Compute S_ij = Q_i K_j^T\n",
    "        for _d in range(d): \n",
    "            Ss[tr*d + tc] += Qs[tr*d + _d] * Ks[j*d + _d]\n",
    "        cuda.syncthreads()\n",
    "        Ss_max = torch.full((B_r, 1), -math.inf)\n",
    "\n",
    "        # todo must be by row\n",
    "        for idx in range(B_r * B_c):  # or actual length of Ss\n",
    "            if Ss[idx] > Ss_max:\n",
    "                Ss_max = Ss[idx]\n",
    "                m_i[Idx] = ...\n",
    "        m_new = max(m_cur, Ss_max) \n",
    "\n",
    "        if j == tc:\n",
    "            for idx in range(B_r * B_c):  # or the actual length of Ss\n",
    "                Ps[idx] = math.exp(Ss[idx] - m_new)\n",
    "\n",
    "        cuda.syncthreads()\n",
    "        l_new = math.exp(m_cur - m_new) * l_cur\n",
    "        for idx in range(B_r * B_c):\n",
    "            l_new +=  Ps[idx]\n",
    "        l_cur = l_new\n",
    "\n",
    "        Os[c] = Os[c] * math.exp(m_cur - m_new)\n",
    "        \n",
    "        for _d in range(d): \n",
    "            Os[c] += Ps[_d] * Vs[_d]\n",
    "\n",
    "        cuda.syncthreads()\n",
    "\n",
    "  \n",
    "    if r < N and c < d: O[r, c] = Os[c] / l_new\n",
    "\n",
    "def flash_attention_numba(Q, K, V):\n",
    "    N_out ,d  = Q.shape\n",
    "    N_inp, kw = K.shape\n",
    "    vr, vw = V.shape\n",
    "    assert d==kw, \"Size mismatch!\"\n",
    "    assert d==vw, \"Size mismatch!\"\n",
    "    assert N_inp==vr, \"Size mismatch!\"\n",
    "    O = torch.zeros(N_out, d, dtype=Q.dtype, device=Q.device)\n",
    "\n",
    "    B_r: int = 1\n",
    "    B_c: int = 1\n",
    "    \n",
    "    dyn_shared_mem_size =  3*(B_r * d) + (d * B_c) * 2 + (B_r * B_c)\n",
    "    tpb = d, B_r\n",
    "    blocks = cdiv(d,tpb[0]), cdiv(d,tpb[1])\n",
    "    flash_attention_k_numba[blocks, tpb, 0, dyn_shared_mem_size](\n",
    "        ca(Q), ca(K), ca(V), ca(O), N_inp, N_out, d\n",
    "    ) \n",
    "    return O\n",
    "\n",
    "N_out, N_inp, d = 2, 3, 4\n",
    "\n",
    "Q = torch.rand(N_out, d).contiguous().cuda()\n",
    "K = torch.rand(N_inp, d).contiguous().cuda()\n",
    "V = torch.rand(N_inp, d).contiguous().cuda()\n",
    "\n",
    "\n",
    "custom_fa = flash_attention_numba(Q, K, V)\n",
    "torch_fa = torch.softmax(Q @ K.T, dim=-1) @ V\n",
    "\n",
    "if not torch.isclose(custom_fa,  torch_fa ).all():\n",
    "    print(\"Mismatch\")\n",
    "    print(f\"\\n{custom_fa}\")\n",
    "    print(f\"\\n{torch_fa}\")"
   ]
  },
  {
   "cell_type": "code",
   "execution_count": 31,
   "metadata": {},
   "outputs": [
    {
     "data": {
      "text/plain": [
       "tensor([[0.9416, 0.5529, 0.7670],\n",
       "        [0.9408, 0.5372, 0.7598]], device='cuda:0')"
      ]
     },
     "execution_count": 31,
     "metadata": {},
     "output_type": "execute_result"
    }
   ],
   "source": [
    "N, d = 2, 3\n",
    "\n",
    "Q = torch.rand(N, d).contiguous().cuda()\n",
    "K = torch.rand(N, d).contiguous().cuda()\n",
    "V = torch.rand(N, d).contiguous().cuda()\n",
    "\n",
    "torch.softmax(Q @ K.T, dim=-1) @ V"
   ]
  },
  {
   "cell_type": "markdown",
   "metadata": {},
   "source": [
    "# Matmul delete"
   ]
  },
  {
   "cell_type": "code",
   "execution_count": null,
   "metadata": {},
   "outputs": [],
   "source": [
    "@cuda.jit\n",
    "def matmul_k_numba(m, n, out, tw):\n",
    "    cbi,cbd,tid = cuda.blockIdx,cuda.blockDim,cuda.threadIdx\n",
    "    tc,tr = tid.x,tid.y\n",
    "    r,c = cbi.y * cbd.y + tr, cbi.x * cbd.x + tc\n",
    "    h,k  = m.shape\n",
    "    k2,w = n.shape\n",
    "\n",
    "    shar = cuda.shared.array(0, dtype=np.float32)\n",
    "    ms,ns = shar[:tw*tw],shar[tw*tw:2*tw*tw]\n",
    "\n",
    "    p = np.float32(0.0)\n",
    "    for ph in range(math.ceil(k/tw)):\n",
    "        idx = ph*tw\n",
    "        ms[tr*tw+tc] = m[r, tc+idx] if r<h and idx+tc<k else 0.\n",
    "        ns[tr*tw+tc] = n[tr+idx, c] if c<w and idx+tr<k else 0.\n",
    "        cuda.syncthreads()\n",
    "        for i in range(tw): p += ms[tr*tw+i] * ns[i*tw+tc]\n",
    "        cuda.syncthreads()\n",
    "    if r < h and c < w: out[r, c] = p"
   ]
  },
  {
   "cell_type": "code",
   "execution_count": 3,
   "metadata": {},
   "outputs": [],
   "source": [
    "def matmul_2d_numba(m, n, tw=16):\n",
    "    h,k  = m.shape\n",
    "    k2,w = n.shape\n",
    "    assert k==k2, \"Size mismatch!\"\n",
    "    out = torch.zeros(h, w, dtype=m.dtype, device=m.device)\n",
    "    dyn_shared_mem_size = 2 * tw * tw * 4\n",
    "    tpb = tw,tw\n",
    "    blocks = cdiv(w,tpb[0]), cdiv(h,tpb[1])\n",
    "    matmul_k_numba[blocks, tpb, 0, dyn_shared_mem_size](ca(m), ca(n), ca(out), tw) \n",
    "    return out"
   ]
  },
  {
   "cell_type": "code",
   "execution_count": 4,
   "metadata": {},
   "outputs": [
    {
     "name": "stderr",
     "output_type": "stream",
     "text": [
      "/opt/conda/lib/python3.12/site-packages/numba/cuda/dispatcher.py:536: NumbaPerformanceWarning: \u001b[1mGrid size 5 will likely result in GPU under-utilization due to low occupancy.\u001b[0m\n",
      "  warn(NumbaPerformanceWarning(msg))\n"
     ]
    },
    {
     "data": {
      "text/plain": [
       "tensor(True, device='cuda:0')"
      ]
     },
     "execution_count": 4,
     "metadata": {},
     "output_type": "execute_result"
    }
   ],
   "source": [
    "\n",
    "N, L, M = 12, 34, 65\n",
    "\n",
    "Q = torch.rand(N, L).contiguous().cuda()\n",
    "K = torch.rand(L, M).contiguous().cuda()\n",
    "\n",
    "torch.isclose(matmul_2d_numba(Q, K), Q@K).all()"
   ]
  },
  {
   "cell_type": "code",
   "execution_count": 5,
   "metadata": {},
   "outputs": [],
   "source": [
    "N, L, M = 12, 34, 65\n",
    "\n",
    "Q = torch.rand(N, L).contiguous().cuda()"
   ]
  },
  {
   "cell_type": "code",
   "execution_count": 6,
   "metadata": {},
   "outputs": [
    {
     "name": "stdout",
     "output_type": "stream",
     "text": [
      "262 μs ± 68.3 μs per loop (mean ± std. dev. of 7 runs, 10 loops each)\n"
     ]
    }
   ],
   "source": [
    "%%timeit -n 10\n",
    "matmul_2d_numba(Q,K)\n",
    "torch.cuda.synchronize()"
   ]
  },
  {
   "cell_type": "code",
   "execution_count": 7,
   "metadata": {},
   "outputs": [
    {
     "name": "stdout",
     "output_type": "stream",
     "text": [
      "33.6 μs ± 20.9 μs per loop (mean ± std. dev. of 7 runs, 10 loops each)\n"
     ]
    }
   ],
   "source": [
    "%%timeit -n 10\n",
    "Q@K\n",
    "torch.cuda.synchronize()"
   ]
  },
  {
   "cell_type": "code",
   "execution_count": null,
   "metadata": {},
   "outputs": [],
   "source": []
  }
 ],
 "metadata": {
  "kernelspec": {
   "display_name": ".venv",
   "language": "python",
   "name": "python3"
  },
  "language_info": {
   "codemirror_mode": {
    "name": "ipython",
    "version": 3
   },
   "file_extension": ".py",
   "mimetype": "text/x-python",
   "name": "python",
   "nbconvert_exporter": "python",
   "pygments_lexer": "ipython3",
   "version": "3.12.9"
  }
 },
 "nbformat": 4,
 "nbformat_minor": 2
}
