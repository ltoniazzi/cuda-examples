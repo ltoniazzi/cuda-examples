{
 "cells": [
  {
   "cell_type": "markdown",
   "metadata": {},
   "source": [
    "# Softmax (1D)\n",
    "\n"
   ]
  },
  {
   "cell_type": "code",
   "execution_count": 1,
   "metadata": {},
   "outputs": [],
   "source": [
    "import sys, os\n",
    "from pathlib import Path\n",
    "\n",
    "# Add the parent directory of the current notebook to sys.path\n",
    "cur_dir = Path().resolve()\n",
    "parent_dir = cur_dir.parent\n",
    "sys.path += [str(parent_dir), str(cur_dir)]\n",
    "\n",
    "\n",
    "os.environ[\"CUDA_LAUNCH_BLOCKING\"] = \"1\""
   ]
  },
  {
   "cell_type": "code",
   "execution_count": 2,
   "metadata": {},
   "outputs": [],
   "source": [
    "import torch\n",
    "from utils import cdiv, get_sig, load_cuda, profile_kernel\n",
    "from collections import namedtuple\n",
    "from softmax_py import  softmax_py"
   ]
  },
  {
   "cell_type": "markdown",
   "metadata": {},
   "source": [
    "## Python cuda looking implementation"
   ]
  },
  {
   "cell_type": "code",
   "execution_count": 3,
   "metadata": {},
   "outputs": [
    {
     "data": {
      "text/plain": [
       "True"
      ]
     },
     "execution_count": 3,
     "metadata": {},
     "output_type": "execute_result"
    }
   ],
   "source": [
    "D = 1024\n",
    "V = torch.randn(32, dtype=torch.float32).contiguous().cuda()\n",
    "O = softmax_py(V)\n",
    "O_torch = torch.softmax(V, dim=0)\n",
    "torch.allclose(O, O_torch, atol=1e-4)\n"
   ]
  },
  {
   "cell_type": "markdown",
   "metadata": {},
   "source": [
    "## Cuda "
   ]
  },
  {
   "cell_type": "code",
   "execution_count": 4,
   "metadata": {},
   "outputs": [],
   "source": [
    "def get_modules(kernels):\n",
    "    for kernel_name, kernel_data in kernels.items():\n",
    "\n",
    "        fname = kernel_data[\"fname\"]\n",
    "        cuda_source = Path(kernel_data[\"cuda_source_path\"]).read_text()\n",
    "        cpp_source = get_sig(fname, cuda_source)\n",
    "        module = load_cuda(cuda_source, cpp_source, funcs=[fname])\n",
    "        kernel_data[\"module\"] = module\n",
    "\n",
    "\n",
    "def get_softmax_modules(kernels):\n",
    "    get_modules(kernels)\n",
    "    kernels[\"torch\"] = {\n",
    "        \"module\": torch,\n",
    "        \"fname\": \"softmax\",\n",
    "    }\n",
    "\n",
    "def add_args_kwargs(kernels, *args, **kwargs):\n",
    "    for kernel_name, kernel_data in kernels.items():\n",
    "        kernel_data[\"args\"]= args\n",
    "        if kernel_name == \"torch\":\n",
    "            kernel_data[\"kwargs\"] = kwargs\n",
    "        else: kernel_data[\"kwargs\"] = {}\n"
   ]
  },
  {
   "cell_type": "code",
   "execution_count": 9,
   "metadata": {},
   "outputs": [
    {
     "name": "stderr",
     "output_type": "stream",
     "text": [
      "/home/sagemaker-user/Workspace/cuda-examples/.venv/lib/python3.12/site-packages/torch/utils/cpp_extension.py:2356: UserWarning: TORCH_CUDA_ARCH_LIST is not set, all archs for visible cards are included for compilation. \n",
      "If this is not desired, please set os.environ['TORCH_CUDA_ARCH_LIST'].\n",
      "  warnings.warn(\n",
      "/home/sagemaker-user/Workspace/cuda-examples/.venv/lib/python3.12/site-packages/torch/utils/cpp_extension.py:2356: UserWarning: TORCH_CUDA_ARCH_LIST is not set, all archs for visible cards are included for compilation. \n",
      "If this is not desired, please set os.environ['TORCH_CUDA_ARCH_LIST'].\n",
      "  warnings.warn(\n"
     ]
    }
   ],
   "source": [
    "kernels = {\n",
    "    \"softmax_naive\": dict(cuda_source_path = \"./softmax_naive.cu\", fname = \"softmax_naive\"),\n",
    "    \"softmax_fast\": dict(cuda_source_path = \"./softmax_fast.cu\", fname = \"softmax_fast\"),\n",
    "    \"softmax_tiled\": dict(cuda_source_path = \"./softmax_tiled.cu\", fname = \"softmax_tiled\"),\n",
    "}\n",
    "get_softmax_modules(kernels)\n",
    "add_args_kwargs(kernels, V, dim=0)\n"
   ]
  },
  {
   "cell_type": "markdown",
   "metadata": {},
   "source": [
    "## Profile"
   ]
  },
  {
   "cell_type": "code",
   "execution_count": 10,
   "metadata": {},
   "outputs": [
    {
     "name": "stdout",
     "output_type": "stream",
     "text": [
      "kernel_name='softmax_naive' agrees with torch softmax\n",
      "kernel_name='softmax_fast' agrees with torch softmax\n",
      "kernel_name='softmax_tiled' agrees with torch softmax\n",
      "Profiling: softmax_naive\n",
      "-------------------------  ------------  ------------  ------------  ------------  ------------  ------------  \n",
      "                     Name    Self CPU %      Self CPU   CPU total %     CPU total  CPU time avg    # of Calls  \n",
      "-------------------------  ------------  ------------  ------------  ------------  ------------  ------------  \n",
      "              aten::zeros         3.15%      15.700us        89.69%     447.626us     447.626us             1  \n",
      "              aten::empty         6.57%      32.811us        78.19%     390.266us     390.266us             1  \n",
      "             Unrecognized        71.62%     357.455us        71.62%     357.455us     357.455us             1  \n",
      "              aten::zero_         0.90%       4.470us         8.35%      41.660us      41.660us             1  \n",
      "              aten::fill_         1.82%       9.060us         7.45%      37.190us      37.190us             1  \n",
      "         cudaLaunchKernel        15.05%      75.121us        15.05%      75.121us      37.560us             2  \n",
      "    cudaDeviceSynchronize         0.90%       4.480us         0.90%       4.480us       4.480us             1  \n",
      "-------------------------  ------------  ------------  ------------  ------------  ------------  ------------  \n",
      "Self CPU time total: 499.097us\n",
      "\n",
      "Profiling: softmax_fast\n",
      "-------------------------  ------------  ------------  ------------  ------------  ------------  ------------  \n",
      "                     Name    Self CPU %      Self CPU   CPU total %     CPU total  CPU time avg    # of Calls  \n",
      "-------------------------  ------------  ------------  ------------  ------------  ------------  ------------  \n",
      "         aten::empty_like         1.27%      10.010us        50.00%     393.745us     393.745us             1  \n",
      "      aten::empty_strided         3.71%      29.220us        48.73%     383.735us     383.735us             1  \n",
      "             Unrecognized        45.02%     354.515us        45.02%     354.515us     354.515us             1  \n",
      "         cudaLaunchKernel        49.57%     390.376us        49.57%     390.376us     390.376us             1  \n",
      "    cudaDeviceSynchronize         0.43%       3.380us         0.43%       3.380us       3.380us             1  \n",
      "-------------------------  ------------  ------------  ------------  ------------  ------------  ------------  \n",
      "Self CPU time total: 787.501us\n",
      "\n",
      "Profiling: softmax_tiled\n",
      "-------------------------  ------------  ------------  ------------  ------------  ------------  ------------  \n",
      "                     Name    Self CPU %      Self CPU   CPU total %     CPU total  CPU time avg    # of Calls  \n",
      "-------------------------  ------------  ------------  ------------  ------------  ------------  ------------  \n",
      "              aten::zeros         1.80%      14.720us        91.13%     746.121us     746.121us             1  \n",
      "              aten::empty         3.86%      31.620us        49.23%     403.066us     403.066us             1  \n",
      "             Unrecognized        45.37%     371.446us        45.37%     371.446us     371.446us             1  \n",
      "              aten::zero_         0.77%       6.320us        40.10%     328.335us     328.335us             1  \n",
      "              aten::fill_         2.46%      20.110us        39.33%     322.015us     322.015us             1  \n",
      "         cudaLaunchKernel        45.38%     371.506us        45.38%     371.506us     185.753us             2  \n",
      "    cudaDeviceSynchronize         0.37%       3.010us         0.37%       3.010us       3.010us             1  \n",
      "-------------------------  ------------  ------------  ------------  ------------  ------------  ------------  \n",
      "Self CPU time total: 818.732us\n",
      "\n",
      "Profiling: torch\n",
      "-------------------------  ------------  ------------  ------------  ------------  ------------  ------------  \n",
      "                     Name    Self CPU %      Self CPU   CPU total %     CPU total  CPU time avg    # of Calls  \n",
      "-------------------------  ------------  ------------  ------------  ------------  ------------  ------------  \n",
      "            aten::softmax         1.15%       7.970us        99.54%     688.380us     688.380us             1  \n",
      "           aten::_softmax         7.35%      50.802us        98.38%     680.410us     680.410us             1  \n",
      "             Unrecognized        54.23%     375.015us        54.23%     375.015us     375.015us             1  \n",
      "         cudaLaunchKernel        36.81%     254.593us        36.81%     254.593us     254.593us             1  \n",
      "    cudaDeviceSynchronize         0.46%       3.200us         0.46%       3.200us       3.200us             1  \n",
      "-------------------------  ------------  ------------  ------------  ------------  ------------  ------------  \n",
      "Self CPU time total: 691.580us\n",
      "\n"
     ]
    }
   ],
   "source": [
    "def test_allclose(kernels):\n",
    "    D = 1024\n",
    "    V_test = torch.randn(D).contiguous().cuda()\n",
    "    O_torch = torch.softmax(V_test,  dim=0)\n",
    "    for kernel_name, kernel_data in kernels.items():\n",
    "        if kernel_name!=\"torch\":\n",
    "            module, fname = kernel_data[\"module\"], kernel_data[\"fname\"]\n",
    "            O = getattr(module, fname)(V_test)\n",
    "            if not torch.allclose(O, O_torch, atol=1e-4):\n",
    "                raise ValueError(f\"{kernel_name=} failed:\\n\\n {O[:10]=}, {O_torch[:10]=}\")\n",
    "            print(f\"{kernel_name=} agrees with torch softmax\")\n",
    "        \n",
    "\n",
    "\n",
    "def profile_kernels(kernels):\n",
    "    test_allclose(kernels)\n",
    "    for kernel_name, kernel_data in kernels.items():\n",
    "        print(f\"Profiling: {kernel_name}\")\n",
    "        profile_kernel(kernel_data[\"module\"], kernel_data[\"fname\"], *kernel_data[\"args\"], **kernel_data[\"kwargs\"])\n",
    "\n",
    "profile_kernels(kernels)\n"
   ]
  },
  {
   "cell_type": "markdown",
   "metadata": {},
   "source": [
    "## Appendix"
   ]
  },
  {
   "cell_type": "code",
   "execution_count": null,
   "metadata": {},
   "outputs": [],
   "source": [
    "O = getattr(module, fname)(V)\n",
    "O_torch = torch.softmax(V,  dim=0)"
   ]
  },
  {
   "cell_type": "code",
   "execution_count": null,
   "metadata": {},
   "outputs": [
    {
     "name": "stdout",
     "output_type": "stream",
     "text": [
      "51.5 μs ± 3.08 μs per loop (mean ± std. dev. of 7 runs, 20 loops each)\n"
     ]
    }
   ],
   "source": [
    "%%timeit -n 20\n",
    "getattr(module, fname)(V)"
   ]
  },
  {
   "cell_type": "code",
   "execution_count": null,
   "metadata": {},
   "outputs": [
    {
     "name": "stdout",
     "output_type": "stream",
     "text": [
      "21.3 μs ± 10.1 μs per loop (mean ± std. dev. of 7 runs, 20 loops each)\n"
     ]
    }
   ],
   "source": [
    "%%timeit -n 20\n",
    "torch.softmax(V,  dim=0)"
   ]
  },
  {
   "cell_type": "code",
   "execution_count": null,
   "metadata": {},
   "outputs": [
    {
     "name": "stdout",
     "output_type": "stream",
     "text": [
      "-------------------------------------------------------  ------------  ------------  ------------  ------------  ------------  ------------  ------------  ------------  ------------  ------------  \n",
      "                                                   Name    Self CPU %      Self CPU   CPU total %     CPU total  CPU time avg     Self CUDA   Self CUDA %    CUDA total  CUDA time avg    # of Calls  \n",
      "-------------------------------------------------------  ------------  ------------  ------------  ------------  ------------  ------------  ------------  ------------  ------------  ------------  \n",
      "                                          aten::softmax         0.55%       9.480us        99.79%       1.735ms       1.735ms       0.000us         0.00%       9.280us       9.280us             1  \n",
      "                                         aten::_softmax         3.62%      62.900us        99.25%       1.726ms       1.726ms       4.640us       100.00%       9.280us       9.280us             1  \n",
      "                                           Unrecognized        92.41%       1.607ms        92.41%       1.607ms       1.607ms       4.640us       100.00%       4.640us       4.640us             1  \n",
      "void (anonymous namespace)::softmax_warp_forward<flo...         0.00%       0.000us         0.00%       0.000us       0.000us       4.640us       100.00%       4.640us       4.640us             1  \n",
      "                                       cudaLaunchKernel         3.22%      56.071us         3.22%      56.071us      56.071us       0.000us         0.00%       0.000us       0.000us             1  \n",
      "                                  cudaDeviceSynchronize         0.21%       3.590us         0.21%       3.590us       3.590us       0.000us         0.00%       0.000us       0.000us             1  \n",
      "-------------------------------------------------------  ------------  ------------  ------------  ------------  ------------  ------------  ------------  ------------  ------------  ------------  \n",
      "Self CPU time total: 1.739ms\n",
      "Self CUDA time total: 4.640us\n",
      "\n"
     ]
    }
   ],
   "source": [
    "profile_kernel(torch, \"softmax\", V,  dim=0)"
   ]
  },
  {
   "cell_type": "code",
   "execution_count": null,
   "metadata": {},
   "outputs": [
    {
     "name": "stdout",
     "output_type": "stream",
     "text": [
      "---------------------------------------  ------------  ------------  ------------  ------------  ------------  ------------  ------------  ------------  ------------  ------------  \n",
      "                                   Name    Self CPU %      Self CPU   CPU total %     CPU total  CPU time avg     Self CUDA   Self CUDA %    CUDA total  CUDA time avg    # of Calls  \n",
      "---------------------------------------  ------------  ------------  ------------  ------------  ------------  ------------  ------------  ------------  ------------  ------------  \n",
      "    softmax_kernel(float*, float*, int)         0.00%       0.000us         0.00%       0.000us       0.000us      24.224us       100.00%      24.224us      24.224us             1  \n",
      "                       aten::empty_like         1.33%      28.090us        95.56%       2.013ms       2.013ms       0.000us         0.00%       0.000us       0.000us             1  \n",
      "                    aten::empty_strided         3.56%      74.961us        94.23%       1.984ms       1.984ms       0.000us         0.00%       0.000us       0.000us             1  \n",
      "                           Unrecognized        90.67%       1.909ms        90.67%       1.909ms       1.909ms       0.000us         0.00%       0.000us       0.000us             1  \n",
      "                       cudaLaunchKernel         4.26%      89.731us         4.26%      89.731us      89.731us       0.000us         0.00%       0.000us       0.000us             1  \n",
      "                  cudaDeviceSynchronize         0.18%       3.790us         0.18%       3.790us       3.790us       0.000us         0.00%       0.000us       0.000us             1  \n",
      "---------------------------------------  ------------  ------------  ------------  ------------  ------------  ------------  ------------  ------------  ------------  ------------  \n",
      "Self CPU time total: 2.106ms\n",
      "Self CUDA time total: 24.224us\n",
      "\n"
     ]
    }
   ],
   "source": [
    "profile_kernel(module, \"softmax\", V)"
   ]
  },
  {
   "cell_type": "code",
   "execution_count": null,
   "metadata": {},
   "outputs": [
    {
     "name": "stderr",
     "output_type": "stream",
     "text": [
      "/home/sagemaker-user/Workspace/cuda-examples/.venv/lib/python3.12/site-packages/torch/utils/cpp_extension.py:2356: UserWarning: TORCH_CUDA_ARCH_LIST is not set, all archs for visible cards are included for compilation. \n",
      "If this is not desired, please set os.environ['TORCH_CUDA_ARCH_LIST'].\n",
      "  warnings.warn(\n"
     ]
    }
   ],
   "source": [
    "cuda_source_path = \"./softmax.cu\"\n",
    "fname = \"softmax_tiled\"\n",
    "cuda_source = Path(cuda_source_path).read_text()\n",
    "cpp_source = get_sig(fname, cuda_source)\n",
    "module = load_cuda(cuda_source, cpp_source, funcs=[fname])"
   ]
  },
  {
   "cell_type": "code",
   "execution_count": null,
   "metadata": {},
   "outputs": [],
   "source": [
    "D = 2048**2\n",
    "V = torch.randn(D).contiguous().cuda()\n",
    "O = getattr(module, fname)(V)\n",
    "O_torch = torch.softmax(V,  dim=0)\n",
    "assert torch.allclose(O, O_torch, atol=1e-4) "
   ]
  },
  {
   "cell_type": "code",
   "execution_count": null,
   "metadata": {},
   "outputs": [],
   "source": [
    "%%timeit -n 20\n",
    "getattr(module, fname)(V)"
   ]
  },
  {
   "cell_type": "code",
   "execution_count": null,
   "metadata": {},
   "outputs": [
    {
     "name": "stdout",
     "output_type": "stream",
     "text": [
      "The slowest run took 4.87 times longer than the fastest. This could mean that an intermediate result is being cached.\n",
      "15.3 μs ± 9.77 μs per loop (mean ± std. dev. of 7 runs, 20 loops each)\n"
     ]
    }
   ],
   "source": [
    "%%timeit -n 20\n",
    "torch.softmax(V,  dim=0)"
   ]
  },
  {
   "cell_type": "markdown",
   "metadata": {},
   "source": [
    "# TODO\n",
    "setup the profiling to get info on dram+warps etc (lesson 8?)"
   ]
  }
 ],
 "metadata": {
  "kernelspec": {
   "display_name": ".venv",
   "language": "python",
   "name": "python3"
  },
  "language_info": {
   "codemirror_mode": {
    "name": "ipython",
    "version": 3
   },
   "file_extension": ".py",
   "mimetype": "text/x-python",
   "name": "python",
   "nbconvert_exporter": "python",
   "pygments_lexer": "ipython3",
   "version": "3.12.9"
  }
 },
 "nbformat": 4,
 "nbformat_minor": 2
}
