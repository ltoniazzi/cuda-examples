{
 "cells": [
  {
   "cell_type": "markdown",
   "metadata": {},
   "source": [
    "# Softmax (1D)\n",
    "\n"
   ]
  },
  {
   "cell_type": "code",
   "execution_count": 1,
   "metadata": {},
   "outputs": [],
   "source": [
    "import sys, os\n",
    "from pathlib import Path\n",
    "\n",
    "# Add the parent directory of the current notebook to sys.path\n",
    "cur_dir = Path().resolve()\n",
    "parent_dir = cur_dir.parent\n",
    "sys.path += [str(parent_dir), str(cur_dir)]\n",
    "\n",
    "\n",
    "os.environ[\"CUDA_LAUNCH_BLOCKING\"] = \"1\""
   ]
  },
  {
   "cell_type": "code",
   "execution_count": 2,
   "metadata": {},
   "outputs": [],
   "source": [
    "import torch\n",
    "from utils import cdiv, get_sig, load_cuda, profile_kernel\n",
    "from collections import namedtuple\n",
    "from softmax_py import  softmax_py"
   ]
  },
  {
   "cell_type": "markdown",
   "metadata": {},
   "source": [
    "## Python cuda looking implementation"
   ]
  },
  {
   "cell_type": "code",
   "execution_count": 3,
   "metadata": {},
   "outputs": [
    {
     "data": {
      "text/plain": [
       "True"
      ]
     },
     "execution_count": 3,
     "metadata": {},
     "output_type": "execute_result"
    }
   ],
   "source": [
    "D = 1024\n",
    "V = torch.randn(32, dtype=torch.float32).contiguous().cuda()\n",
    "O = softmax_py(V)\n",
    "O_torch = torch.softmax(V, dim=0)\n",
    "torch.allclose(O, O_torch, atol=1e-4)\n"
   ]
  },
  {
   "cell_type": "markdown",
   "metadata": {},
   "source": [
    "## Cuda "
   ]
  },
  {
   "cell_type": "code",
   "execution_count": 4,
   "metadata": {},
   "outputs": [],
   "source": [
    "def get_modules(kernels):\n",
    "    for kernel_name, kernel_data in kernels.items():\n",
    "\n",
    "        fname = kernel_data[\"fname\"]\n",
    "        cuda_source = Path(kernel_data[\"cuda_source_path\"]).read_text()\n",
    "        cpp_source = get_sig(fname, cuda_source)\n",
    "        module = load_cuda(cuda_source, cpp_source, funcs=[fname])\n",
    "        kernel_data[\"module\"] = module\n",
    "\n",
    "\n",
    "def get_softmax_modules(kernels):\n",
    "    get_modules(kernels)\n",
    "    kernels[\"torch\"] = {\n",
    "        \"module\": torch,\n",
    "        \"fname\": \"softmax\",\n",
    "    }\n",
    "\n",
    "def add_args_kwargs(kernels, *args, **kwargs):\n",
    "    for kernel_name, kernel_data in kernels.items():\n",
    "        kernel_data[\"args\"]= args\n",
    "        if kernel_name == \"torch\":\n",
    "            kernel_data[\"kwargs\"] = kwargs\n",
    "        else: kernel_data[\"kwargs\"] = {}\n"
   ]
  },
  {
   "cell_type": "code",
   "execution_count": 5,
   "metadata": {},
   "outputs": [
    {
     "name": "stderr",
     "output_type": "stream",
     "text": [
      "/home/sagemaker-user/Workspace/cuda-examples/.venv/lib/python3.12/site-packages/torch/utils/cpp_extension.py:2356: UserWarning: TORCH_CUDA_ARCH_LIST is not set, all archs for visible cards are included for compilation. \n",
      "If this is not desired, please set os.environ['TORCH_CUDA_ARCH_LIST'].\n",
      "  warnings.warn(\n",
      "/home/sagemaker-user/Workspace/cuda-examples/.venv/lib/python3.12/site-packages/torch/utils/cpp_extension.py:2356: UserWarning: TORCH_CUDA_ARCH_LIST is not set, all archs for visible cards are included for compilation. \n",
      "If this is not desired, please set os.environ['TORCH_CUDA_ARCH_LIST'].\n",
      "  warnings.warn(\n",
      "/home/sagemaker-user/Workspace/cuda-examples/.venv/lib/python3.12/site-packages/torch/utils/cpp_extension.py:2356: UserWarning: TORCH_CUDA_ARCH_LIST is not set, all archs for visible cards are included for compilation. \n",
      "If this is not desired, please set os.environ['TORCH_CUDA_ARCH_LIST'].\n",
      "  warnings.warn(\n"
     ]
    }
   ],
   "source": [
    "kernels = {\n",
    "    \"softmax_naive\": dict(cuda_source_path = \"./softmax_naive.cu\", fname = \"softmax_naive\"),\n",
    "    \"softmax_fast\": dict(cuda_source_path = \"./softmax_fast.cu\", fname = \"softmax_fast\"),\n",
    "    \"softmax_tiled\": dict(cuda_source_path = \"./softmax_tiled.cu\", fname = \"softmax_tiled\"),\n",
    "}\n",
    "get_softmax_modules(kernels)\n",
    "add_args_kwargs(kernels, V, dim=0)\n"
   ]
  },
  {
   "cell_type": "markdown",
   "metadata": {},
   "source": [
    "## Profile"
   ]
  },
  {
   "cell_type": "code",
   "execution_count": 6,
   "metadata": {},
   "outputs": [
    {
     "name": "stdout",
     "output_type": "stream",
     "text": [
      "kernel_name='softmax_naive' agrees with torch softmax\n",
      "kernel_name='softmax_fast' agrees with torch softmax\n",
      "kernel_name='softmax_tiled' agrees with torch softmax\n",
      "Profiling: softmax_naive\n",
      "-------------------------------------------------------  ------------  ------------  ------------  ------------  ------------  ------------  ------------  ------------  ------------  ------------  \n",
      "                                                   Name    Self CPU %      Self CPU   CPU total %     CPU total  CPU time avg     Self CUDA   Self CUDA %    CUDA total  CUDA time avg    # of Calls  \n",
      "-------------------------------------------------------  ------------  ------------  ------------  ------------  ------------  ------------  ------------  ------------  ------------  ------------  \n",
      "              softmax_naive_kernel(float*, float*, int)         0.00%       0.000us         0.00%       0.000us       0.000us       2.464us        65.27%       2.464us       2.464us             1  \n",
      "                                            aten::zeros         2.50%      44.941us        99.03%       1.780ms       1.780ms       0.000us         0.00%       1.311us       1.311us             1  \n",
      "                                            aten::zero_         0.55%       9.860us         4.86%      87.451us      87.451us       0.000us         0.00%       1.311us       1.311us             1  \n",
      "                                            aten::fill_         1.28%      23.090us         4.32%      77.591us      77.591us       1.311us        34.73%       1.311us       1.311us             1  \n",
      "void at::native::vectorized_elementwise_kernel<4, at...         0.00%       0.000us         0.00%       0.000us       0.000us       1.311us        34.73%       1.311us       1.311us             1  \n",
      "                                            aten::empty         2.41%      43.410us        91.66%       1.648ms       1.648ms       0.000us         0.00%       0.000us       0.000us             1  \n",
      "                                           Unrecognized        89.25%       1.604ms        89.25%       1.604ms       1.604ms       0.000us         0.00%       0.000us       0.000us             1  \n",
      "                                       cudaLaunchKernel         3.79%      68.151us         3.79%      68.151us      34.076us       0.000us         0.00%       0.000us       0.000us             2  \n",
      "                                  cudaDeviceSynchronize         0.21%       3.860us         0.21%       3.860us       3.860us       0.000us         0.00%       0.000us       0.000us             1  \n",
      "-------------------------------------------------------  ------------  ------------  ------------  ------------  ------------  ------------  ------------  ------------  ------------  ------------  \n",
      "Self CPU time total: 1.798ms\n",
      "Self CUDA time total: 3.775us\n",
      "\n",
      "Profiling: softmax_fast\n",
      "--------------------------------------------  ------------  ------------  ------------  ------------  ------------  ------------  ------------  ------------  ------------  ------------  \n",
      "                                        Name    Self CPU %      Self CPU   CPU total %     CPU total  CPU time avg     Self CUDA   Self CUDA %    CUDA total  CUDA time avg    # of Calls  \n",
      "--------------------------------------------  ------------  ------------  ------------  ------------  ------------  ------------  ------------  ------------  ------------  ------------  \n",
      "    softmax_fast_kernel(float*, float*, int)         0.00%       0.000us         0.00%       0.000us       0.000us       1.792us       100.00%       1.792us       1.792us             1  \n",
      "                            aten::empty_like         0.87%      15.111us        96.61%       1.671ms       1.671ms       0.000us         0.00%       0.000us       0.000us             1  \n",
      "                         aten::empty_strided         3.16%      54.671us        95.73%       1.656ms       1.656ms       0.000us         0.00%       0.000us       0.000us             1  \n",
      "                                Unrecognized        92.57%       1.601ms        92.57%       1.601ms       1.601ms       0.000us         0.00%       0.000us       0.000us             1  \n",
      "                            cudaLaunchKernel         3.10%      53.661us         3.10%      53.661us      53.661us       0.000us         0.00%       0.000us       0.000us             1  \n",
      "                       cudaDeviceSynchronize         0.29%       5.020us         0.29%       5.020us       5.020us       0.000us         0.00%       0.000us       0.000us             1  \n",
      "--------------------------------------------  ------------  ------------  ------------  ------------  ------------  ------------  ------------  ------------  ------------  ------------  \n",
      "Self CPU time total: 1.730ms\n",
      "Self CUDA time total: 1.792us\n",
      "\n",
      "Profiling: softmax_tiled\n",
      "-------------------------------------------------------  ------------  ------------  ------------  ------------  ------------  ------------  ------------  ------------  ------------  ------------  \n",
      "                                                   Name    Self CPU %      Self CPU   CPU total %     CPU total  CPU time avg     Self CUDA   Self CUDA %    CUDA total  CUDA time avg    # of Calls  \n",
      "-------------------------------------------------------  ------------  ------------  ------------  ------------  ------------  ------------  ------------  ------------  ------------  ------------  \n",
      "              softmax_tiled_kernel(float*, float*, int)         0.00%       0.000us         0.00%       0.000us       0.000us       2.976us        73.81%       2.976us       2.976us             1  \n",
      "                                            aten::zeros         0.84%      14.351us        98.86%       1.686ms       1.686ms       0.000us         0.00%       1.056us       1.056us             1  \n",
      "                                            aten::zero_         0.34%       5.790us         3.78%      64.400us      64.400us       0.000us         0.00%       1.056us       1.056us             1  \n",
      "                                            aten::fill_         1.35%      22.960us         3.44%      58.610us      58.610us       1.056us        26.19%       1.056us       1.056us             1  \n",
      "void at::native::vectorized_elementwise_kernel<4, at...         0.00%       0.000us         0.00%       0.000us       0.000us       1.056us        26.19%       1.056us       1.056us             1  \n",
      "                                            aten::empty         2.30%      39.230us        94.24%       1.607ms       1.607ms       0.000us         0.00%       0.000us       0.000us             1  \n",
      "                                           Unrecognized        91.94%       1.568ms        91.94%       1.568ms       1.568ms       0.000us         0.00%       0.000us       0.000us             1  \n",
      "                                       cudaLaunchKernel         2.96%      50.411us         2.96%      50.411us      25.206us       0.000us         0.00%       0.000us       0.000us             2  \n",
      "                                  cudaDeviceSynchronize         0.28%       4.700us         0.28%       4.700us       4.700us       0.000us         0.00%       0.000us       0.000us             1  \n",
      "-------------------------------------------------------  ------------  ------------  ------------  ------------  ------------  ------------  ------------  ------------  ------------  ------------  \n",
      "Self CPU time total: 1.705ms\n",
      "Self CUDA time total: 4.032us\n",
      "\n",
      "Profiling: torch\n",
      "-------------------------------------------------------  ------------  ------------  ------------  ------------  ------------  ------------  ------------  ------------  ------------  ------------  \n",
      "                                                   Name    Self CPU %      Self CPU   CPU total %     CPU total  CPU time avg     Self CUDA   Self CUDA %    CUDA total  CUDA time avg    # of Calls  \n",
      "-------------------------------------------------------  ------------  ------------  ------------  ------------  ------------  ------------  ------------  ------------  ------------  ------------  \n",
      "                                          aten::softmax         0.41%       8.070us        99.83%       1.951ms       1.951ms       0.000us         0.00%       3.072us       3.072us             1  \n",
      "                                         aten::_softmax         2.30%      44.990us        99.42%       1.943ms       1.943ms       1.536us       100.00%       3.072us       3.072us             1  \n",
      "                                           Unrecognized        80.75%       1.579ms        80.75%       1.579ms       1.579ms       1.536us       100.00%       1.536us       1.536us             1  \n",
      "void (anonymous namespace)::softmax_warp_forward<flo...         0.00%       0.000us         0.00%       0.000us       0.000us       1.536us       100.00%       1.536us       1.536us             1  \n",
      "                                       cudaLaunchKernel        16.36%     319.825us        16.36%     319.825us     319.825us       0.000us         0.00%       0.000us       0.000us             1  \n",
      "                                  cudaDeviceSynchronize         0.17%       3.361us         0.17%       3.361us       3.361us       0.000us         0.00%       0.000us       0.000us             1  \n",
      "-------------------------------------------------------  ------------  ------------  ------------  ------------  ------------  ------------  ------------  ------------  ------------  ------------  \n",
      "Self CPU time total: 1.955ms\n",
      "Self CUDA time total: 1.536us\n",
      "\n"
     ]
    }
   ],
   "source": [
    "def test_allclose(kernels):\n",
    "    D = 1024\n",
    "    V_test = torch.randn(D).contiguous().cuda()\n",
    "    O_torch = torch.softmax(V_test,  dim=0)\n",
    "    for kernel_name, kernel_data in kernels.items():\n",
    "        if kernel_name!=\"torch\":\n",
    "            module, fname = kernel_data[\"module\"], kernel_data[\"fname\"]\n",
    "            O = getattr(module, fname)(V_test)\n",
    "            if not torch.allclose(O, O_torch, atol=1e-4):\n",
    "                raise ValueError(f\"{kernel_name=} failed:\\n\\n {O[:10]=}, {O_torch[:10]=}\")\n",
    "            print(f\"{kernel_name=} agrees with torch softmax\")\n",
    "        \n",
    "\n",
    "\n",
    "def profile_kernels(kernels):\n",
    "    test_allclose(kernels)\n",
    "    for kernel_name, kernel_data in kernels.items():\n",
    "        print(f\"Profiling: {kernel_name}\")\n",
    "        profile_kernel(kernel_data[\"module\"], kernel_data[\"fname\"], *kernel_data[\"args\"], **kernel_data[\"kwargs\"])\n",
    "\n",
    "profile_kernels(kernels)\n"
   ]
  },
  {
   "cell_type": "markdown",
   "metadata": {},
   "source": [
    "## Appendix"
   ]
  },
  {
   "cell_type": "code",
   "execution_count": 7,
   "metadata": {},
   "outputs": [
    {
     "ename": "NameError",
     "evalue": "name 'module' is not defined",
     "output_type": "error",
     "traceback": [
      "\u001b[31m---------------------------------------------------------------------------\u001b[39m",
      "\u001b[31mNameError\u001b[39m                                 Traceback (most recent call last)",
      "\u001b[36mCell\u001b[39m\u001b[36m \u001b[39m\u001b[32mIn[7]\u001b[39m\u001b[32m, line 1\u001b[39m\n\u001b[32m----> \u001b[39m\u001b[32m1\u001b[39m O = \u001b[38;5;28mgetattr\u001b[39m(\u001b[43mmodule\u001b[49m, fname)(V)\n\u001b[32m      2\u001b[39m O_torch = torch.softmax(V,  dim=\u001b[32m0\u001b[39m)\n",
      "\u001b[31mNameError\u001b[39m: name 'module' is not defined"
     ]
    }
   ],
   "source": [
    "O = getattr(module, fname)(V)\n",
    "O_torch = torch.softmax(V,  dim=0)"
   ]
  },
  {
   "cell_type": "code",
   "execution_count": null,
   "metadata": {},
   "outputs": [
    {
     "name": "stdout",
     "output_type": "stream",
     "text": [
      "51.5 μs ± 3.08 μs per loop (mean ± std. dev. of 7 runs, 20 loops each)\n"
     ]
    }
   ],
   "source": [
    "%%timeit -n 20\n",
    "getattr(module, fname)(V)"
   ]
  },
  {
   "cell_type": "code",
   "execution_count": null,
   "metadata": {},
   "outputs": [
    {
     "name": "stdout",
     "output_type": "stream",
     "text": [
      "21.3 μs ± 10.1 μs per loop (mean ± std. dev. of 7 runs, 20 loops each)\n"
     ]
    }
   ],
   "source": [
    "%%timeit -n 20\n",
    "torch.softmax(V,  dim=0)"
   ]
  },
  {
   "cell_type": "code",
   "execution_count": null,
   "metadata": {},
   "outputs": [
    {
     "name": "stdout",
     "output_type": "stream",
     "text": [
      "-------------------------------------------------------  ------------  ------------  ------------  ------------  ------------  ------------  ------------  ------------  ------------  ------------  \n",
      "                                                   Name    Self CPU %      Self CPU   CPU total %     CPU total  CPU time avg     Self CUDA   Self CUDA %    CUDA total  CUDA time avg    # of Calls  \n",
      "-------------------------------------------------------  ------------  ------------  ------------  ------------  ------------  ------------  ------------  ------------  ------------  ------------  \n",
      "                                          aten::softmax         0.55%       9.480us        99.79%       1.735ms       1.735ms       0.000us         0.00%       9.280us       9.280us             1  \n",
      "                                         aten::_softmax         3.62%      62.900us        99.25%       1.726ms       1.726ms       4.640us       100.00%       9.280us       9.280us             1  \n",
      "                                           Unrecognized        92.41%       1.607ms        92.41%       1.607ms       1.607ms       4.640us       100.00%       4.640us       4.640us             1  \n",
      "void (anonymous namespace)::softmax_warp_forward<flo...         0.00%       0.000us         0.00%       0.000us       0.000us       4.640us       100.00%       4.640us       4.640us             1  \n",
      "                                       cudaLaunchKernel         3.22%      56.071us         3.22%      56.071us      56.071us       0.000us         0.00%       0.000us       0.000us             1  \n",
      "                                  cudaDeviceSynchronize         0.21%       3.590us         0.21%       3.590us       3.590us       0.000us         0.00%       0.000us       0.000us             1  \n",
      "-------------------------------------------------------  ------------  ------------  ------------  ------------  ------------  ------------  ------------  ------------  ------------  ------------  \n",
      "Self CPU time total: 1.739ms\n",
      "Self CUDA time total: 4.640us\n",
      "\n"
     ]
    }
   ],
   "source": [
    "profile_kernel(torch, \"softmax\", V,  dim=0)"
   ]
  },
  {
   "cell_type": "code",
   "execution_count": null,
   "metadata": {},
   "outputs": [
    {
     "name": "stdout",
     "output_type": "stream",
     "text": [
      "---------------------------------------  ------------  ------------  ------------  ------------  ------------  ------------  ------------  ------------  ------------  ------------  \n",
      "                                   Name    Self CPU %      Self CPU   CPU total %     CPU total  CPU time avg     Self CUDA   Self CUDA %    CUDA total  CUDA time avg    # of Calls  \n",
      "---------------------------------------  ------------  ------------  ------------  ------------  ------------  ------------  ------------  ------------  ------------  ------------  \n",
      "    softmax_kernel(float*, float*, int)         0.00%       0.000us         0.00%       0.000us       0.000us      24.224us       100.00%      24.224us      24.224us             1  \n",
      "                       aten::empty_like         1.33%      28.090us        95.56%       2.013ms       2.013ms       0.000us         0.00%       0.000us       0.000us             1  \n",
      "                    aten::empty_strided         3.56%      74.961us        94.23%       1.984ms       1.984ms       0.000us         0.00%       0.000us       0.000us             1  \n",
      "                           Unrecognized        90.67%       1.909ms        90.67%       1.909ms       1.909ms       0.000us         0.00%       0.000us       0.000us             1  \n",
      "                       cudaLaunchKernel         4.26%      89.731us         4.26%      89.731us      89.731us       0.000us         0.00%       0.000us       0.000us             1  \n",
      "                  cudaDeviceSynchronize         0.18%       3.790us         0.18%       3.790us       3.790us       0.000us         0.00%       0.000us       0.000us             1  \n",
      "---------------------------------------  ------------  ------------  ------------  ------------  ------------  ------------  ------------  ------------  ------------  ------------  \n",
      "Self CPU time total: 2.106ms\n",
      "Self CUDA time total: 24.224us\n",
      "\n"
     ]
    }
   ],
   "source": [
    "profile_kernel(module, \"softmax\", V)"
   ]
  },
  {
   "cell_type": "code",
   "execution_count": null,
   "metadata": {},
   "outputs": [
    {
     "name": "stderr",
     "output_type": "stream",
     "text": [
      "/home/sagemaker-user/Workspace/cuda-examples/.venv/lib/python3.12/site-packages/torch/utils/cpp_extension.py:2356: UserWarning: TORCH_CUDA_ARCH_LIST is not set, all archs for visible cards are included for compilation. \n",
      "If this is not desired, please set os.environ['TORCH_CUDA_ARCH_LIST'].\n",
      "  warnings.warn(\n"
     ]
    }
   ],
   "source": [
    "cuda_source_path = \"./softmax.cu\"\n",
    "fname = \"softmax_tiled\"\n",
    "cuda_source = Path(cuda_source_path).read_text()\n",
    "cpp_source = get_sig(fname, cuda_source)\n",
    "module = load_cuda(cuda_source, cpp_source, funcs=[fname])"
   ]
  },
  {
   "cell_type": "code",
   "execution_count": null,
   "metadata": {},
   "outputs": [],
   "source": [
    "D = 2048**2\n",
    "V = torch.randn(D).contiguous().cuda()\n",
    "O = getattr(module, fname)(V)\n",
    "O_torch = torch.softmax(V,  dim=0)\n",
    "assert torch.allclose(O, O_torch, atol=1e-4) "
   ]
  },
  {
   "cell_type": "code",
   "execution_count": null,
   "metadata": {},
   "outputs": [],
   "source": [
    "%%timeit -n 20\n",
    "getattr(module, fname)(V)"
   ]
  },
  {
   "cell_type": "code",
   "execution_count": null,
   "metadata": {},
   "outputs": [
    {
     "name": "stdout",
     "output_type": "stream",
     "text": [
      "The slowest run took 4.87 times longer than the fastest. This could mean that an intermediate result is being cached.\n",
      "15.3 μs ± 9.77 μs per loop (mean ± std. dev. of 7 runs, 20 loops each)\n"
     ]
    }
   ],
   "source": [
    "%%timeit -n 20\n",
    "torch.softmax(V,  dim=0)"
   ]
  },
  {
   "cell_type": "markdown",
   "metadata": {},
   "source": [
    "# TODO\n",
    "setup the profiling to get info on dram+warps etc (lesson 8?)"
   ]
  }
 ],
 "metadata": {
  "kernelspec": {
   "display_name": ".venv",
   "language": "python",
   "name": "python3"
  },
  "language_info": {
   "codemirror_mode": {
    "name": "ipython",
    "version": 3
   },
   "file_extension": ".py",
   "mimetype": "text/x-python",
   "name": "python",
   "nbconvert_exporter": "python",
   "pygments_lexer": "ipython3",
   "version": "3.12.9"
  }
 },
 "nbformat": 4,
 "nbformat_minor": 2
}
