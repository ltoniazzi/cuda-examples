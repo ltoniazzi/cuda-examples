{
 "cells": [
  {
   "cell_type": "markdown",
   "metadata": {},
   "source": [
    "# Softmax (1D)\n",
    "\n"
   ]
  },
  {
   "cell_type": "code",
   "execution_count": 1,
   "metadata": {},
   "outputs": [],
   "source": [
    "import sys, os\n",
    "from pathlib import Path\n",
    "\n",
    "# Add the parent directory of the current notebook to sys.path\n",
    "cur_dir = Path().resolve()\n",
    "parent_dir = cur_dir.parent\n",
    "sys.path += [str(parent_dir), str(cur_dir)]\n",
    "\n",
    "\n",
    "os.environ[\"CUDA_LAUNCH_BLOCKING\"] = \"1\""
   ]
  },
  {
   "cell_type": "code",
   "execution_count": 2,
   "metadata": {},
   "outputs": [],
   "source": [
    "import torch\n",
    "from utils import cdiv, get_sig, load_cuda, profile_kernel\n",
    "from collections import namedtuple\n",
    "from softmax_py import  softmax_py\n",
    "\n",
    "def test_allclose(kernels):\n",
    "    D = 1024\n",
    "    V_test = torch.randn(D).contiguous().cuda()\n",
    "    O_torch = torch.softmax(V_test,  dim=0)\n",
    "    for kernel_name, kernel_data in kernels.items():\n",
    "        if kernel_name!=\"torch\":\n",
    "            module, fname = kernel_data[\"module\"], kernel_data[\"fname\"]\n",
    "            O = getattr(module, fname)(V_test)\n",
    "            if not torch.allclose(O, O_torch, atol=1e-4):\n",
    "                raise ValueError(f\"{kernel_name=} failed:\\n\\n {O[:10]=}, {O_torch[:10]=}\")\n",
    "            print(f\"{kernel_name=} agrees with torch softmax\")\n",
    "        \n",
    "\n",
    "\n",
    "def profile_kernels(kernels):\n",
    "    test_allclose(kernels)\n",
    "    for kernel_name, kernel_data in kernels.items():\n",
    "        print(f\"Profiling: {kernel_name}\")\n",
    "        profile_kernel(kernel_data[\"module\"], kernel_data[\"fname\"], *kernel_data[\"args\"], **kernel_data[\"kwargs\"])\n"
   ]
  },
  {
   "cell_type": "markdown",
   "metadata": {},
   "source": [
    "## Python cuda looking implementation"
   ]
  },
  {
   "cell_type": "code",
   "execution_count": 3,
   "metadata": {},
   "outputs": [
    {
     "data": {
      "text/plain": [
       "True"
      ]
     },
     "execution_count": 3,
     "metadata": {},
     "output_type": "execute_result"
    }
   ],
   "source": [
    "V_small = torch.randn(32, dtype=torch.float32).contiguous().cuda()\n",
    "O = softmax_py(V_small)\n",
    "O_torch = torch.softmax(V_small, dim=0)\n",
    "torch.allclose(O, O_torch, atol=1e-4)\n",
    "\n"
   ]
  },
  {
   "cell_type": "markdown",
   "metadata": {},
   "source": [
    "## Cuda "
   ]
  },
  {
   "cell_type": "code",
   "execution_count": 4,
   "metadata": {},
   "outputs": [],
   "source": [
    "def get_modules(kernels):\n",
    "    for kernel_name, kernel_data in kernels.items():\n",
    "\n",
    "        fname = kernel_data[\"fname\"]\n",
    "        cuda_source = Path(kernel_data[\"cuda_source_path\"]).read_text()\n",
    "        cpp_source = get_sig(fname, cuda_source)\n",
    "        module = load_cuda(cuda_source, cpp_source, funcs=[fname])\n",
    "        kernel_data[\"module\"] = module\n",
    "\n",
    "\n",
    "def get_softmax_modules(kernels):\n",
    "    get_modules(kernels)\n",
    "    kernels[\"torch\"] = {\n",
    "        \"module\": torch,\n",
    "        \"fname\": \"softmax\",\n",
    "    }\n",
    "\n",
    "def add_args_kwargs(kernels, *args, **kwargs):\n",
    "    for kernel_name, kernel_data in kernels.items():\n",
    "        kernel_data[\"args\"]= args\n",
    "        if kernel_name == \"torch\":\n",
    "            kernel_data[\"kwargs\"] = kwargs\n",
    "        else: kernel_data[\"kwargs\"] = {}\n"
   ]
  },
  {
   "cell_type": "code",
   "execution_count": 5,
   "metadata": {},
   "outputs": [
    {
     "name": "stderr",
     "output_type": "stream",
     "text": [
      "/home/sagemaker-user/Workspace/cuda-examples/.venv/lib/python3.12/site-packages/torch/utils/cpp_extension.py:2356: UserWarning: TORCH_CUDA_ARCH_LIST is not set, all archs for visible cards are included for compilation. \n",
      "If this is not desired, please set os.environ['TORCH_CUDA_ARCH_LIST'].\n",
      "  warnings.warn(\n",
      "/home/sagemaker-user/Workspace/cuda-examples/.venv/lib/python3.12/site-packages/torch/utils/cpp_extension.py:2356: UserWarning: TORCH_CUDA_ARCH_LIST is not set, all archs for visible cards are included for compilation. \n",
      "If this is not desired, please set os.environ['TORCH_CUDA_ARCH_LIST'].\n",
      "  warnings.warn(\n",
      "/home/sagemaker-user/Workspace/cuda-examples/.venv/lib/python3.12/site-packages/torch/utils/cpp_extension.py:2356: UserWarning: TORCH_CUDA_ARCH_LIST is not set, all archs for visible cards are included for compilation. \n",
      "If this is not desired, please set os.environ['TORCH_CUDA_ARCH_LIST'].\n",
      "  warnings.warn(\n"
     ]
    }
   ],
   "source": [
    "D = 1024\n",
    "V = torch.randn(D, dtype=torch.float32).contiguous().cuda()\n",
    "\n",
    "kernels = {\n",
    "    \"softmax_naive\": dict(cuda_source_path = \"./softmax_naive.cu\", fname = \"softmax_naive\"),\n",
    "    \"softmax_fast\": dict(cuda_source_path = \"./softmax_fast.cu\", fname = \"softmax_fast\"),\n",
    "    \"softmax_tiled\": dict(cuda_source_path = \"./softmax_tiled.cu\", fname = \"softmax_tiled\"),\n",
    "}\n",
    "get_softmax_modules(kernels)\n",
    "add_args_kwargs(kernels, V, dim=0)\n"
   ]
  },
  {
   "cell_type": "markdown",
   "metadata": {},
   "source": [
    "## Profile"
   ]
  },
  {
   "cell_type": "code",
   "execution_count": 6,
   "metadata": {},
   "outputs": [
    {
     "name": "stdout",
     "output_type": "stream",
     "text": [
      "kernel_name='softmax_naive' agrees with torch softmax\n",
      "kernel_name='softmax_fast' agrees with torch softmax\n",
      "kernel_name='softmax_tiled' agrees with torch softmax\n",
      "Profiling: softmax_naive\n",
      "-------------------------------------------------------  ------------  ------------  ------------  ------------  ------------  ------------  ------------  ------------  ------------  ------------  \n",
      "                                                   Name    Self CPU %      Self CPU   CPU total %     CPU total  CPU time avg     Self CUDA   Self CUDA %    CUDA total  CUDA time avg    # of Calls  \n",
      "-------------------------------------------------------  ------------  ------------  ------------  ------------  ------------  ------------  ------------  ------------  ------------  ------------  \n",
      "              softmax_naive_kernel(float*, float*, int)         0.00%       0.000us         0.00%       0.000us       0.000us      36.320us        96.43%      36.320us      36.320us             1  \n",
      "                                            aten::zeros         2.51%      45.461us        97.14%       1.761ms       1.761ms       0.000us         0.00%       1.344us       1.344us             1  \n",
      "                                            aten::zero_         0.54%       9.730us         4.76%      86.341us      86.341us       0.000us         0.00%       1.344us       1.344us             1  \n",
      "                                            aten::fill_         1.29%      23.470us         4.23%      76.611us      76.611us       1.344us         3.57%       1.344us       1.344us             1  \n",
      "void at::native::vectorized_elementwise_kernel<4, at...         0.00%       0.000us         0.00%       0.000us       0.000us       1.344us         3.57%       1.344us       1.344us             1  \n",
      "                                            aten::empty         2.33%      42.290us        89.87%       1.629ms       1.629ms       0.000us         0.00%       0.000us       0.000us             1  \n",
      "                                           Unrecognized        87.54%       1.587ms        87.54%       1.587ms       1.587ms       0.000us         0.00%       0.000us       0.000us             1  \n",
      "                                       cudaLaunchKernel         5.54%     100.462us         5.54%     100.462us      50.231us       0.000us         0.00%       0.000us       0.000us             2  \n",
      "                                  cudaDeviceSynchronize         0.25%       4.450us         0.25%       4.450us       4.450us       0.000us         0.00%       0.000us       0.000us             1  \n",
      "-------------------------------------------------------  ------------  ------------  ------------  ------------  ------------  ------------  ------------  ------------  ------------  ------------  \n",
      "Self CPU time total: 1.813ms\n",
      "Self CUDA time total: 37.664us\n",
      "\n",
      "Profiling: softmax_fast\n",
      "--------------------------------------------  ------------  ------------  ------------  ------------  ------------  ------------  ------------  ------------  ------------  ------------  \n",
      "                                        Name    Self CPU %      Self CPU   CPU total %     CPU total  CPU time avg     Self CUDA   Self CUDA %    CUDA total  CUDA time avg    # of Calls  \n",
      "--------------------------------------------  ------------  ------------  ------------  ------------  ------------  ------------  ------------  ------------  ------------  ------------  \n",
      "    softmax_fast_kernel(float*, float*, int)         0.00%       0.000us         0.00%       0.000us       0.000us      24.064us       100.00%      24.064us      24.064us             1  \n",
      "                            aten::empty_like         0.80%      14.381us        95.82%       1.720ms       1.720ms       0.000us         0.00%       0.000us       0.000us             1  \n",
      "                         aten::empty_strided         3.23%      57.880us        95.02%       1.705ms       1.705ms       0.000us         0.00%       0.000us       0.000us             1  \n",
      "                                Unrecognized        91.79%       1.647ms        91.79%       1.647ms       1.647ms       0.000us         0.00%       0.000us       0.000us             1  \n",
      "                            cudaLaunchKernel         4.00%      71.791us         4.00%      71.791us      71.791us       0.000us         0.00%       0.000us       0.000us             1  \n",
      "                       cudaDeviceSynchronize         0.18%       3.270us         0.18%       3.270us       3.270us       0.000us         0.00%       0.000us       0.000us             1  \n",
      "--------------------------------------------  ------------  ------------  ------------  ------------  ------------  ------------  ------------  ------------  ------------  ------------  \n",
      "Self CPU time total: 1.795ms\n",
      "Self CUDA time total: 24.064us\n",
      "\n",
      "Profiling: softmax_tiled\n",
      "-------------------------------------------------------  ------------  ------------  ------------  ------------  ------------  ------------  ------------  ------------  ------------  ------------  \n",
      "                                                   Name    Self CPU %      Self CPU   CPU total %     CPU total  CPU time avg     Self CUDA   Self CUDA %    CUDA total  CUDA time avg    # of Calls  \n",
      "-------------------------------------------------------  ------------  ------------  ------------  ------------  ------------  ------------  ------------  ------------  ------------  ------------  \n",
      "              softmax_tiled_kernel(float*, float*, int)         0.00%       0.000us         0.00%       0.000us       0.000us      57.120us        98.13%      57.120us      57.120us             1  \n",
      "                                            aten::zeros         0.80%      14.391us        96.03%       1.729ms       1.729ms       0.000us         0.00%       1.089us       1.089us             1  \n",
      "                                            aten::zero_         0.35%       6.350us         3.01%      54.171us      54.171us       0.000us         0.00%       1.089us       1.089us             1  \n",
      "                                            aten::fill_         1.15%      20.621us         2.66%      47.821us      47.821us       1.089us         1.87%       1.089us       1.089us             1  \n",
      "void at::native::vectorized_elementwise_kernel<4, at...         0.00%       0.000us         0.00%       0.000us       0.000us       1.089us         1.87%       1.089us       1.089us             1  \n",
      "                                            aten::empty         1.92%      34.530us        92.22%       1.660ms       1.660ms       0.000us         0.00%       0.000us       0.000us             1  \n",
      "                                           Unrecognized        90.30%       1.626ms        90.30%       1.626ms       1.626ms       0.000us         0.00%       0.000us       0.000us             1  \n",
      "                                       cudaLaunchKernel         5.31%      95.611us         5.31%      95.611us      47.806us       0.000us         0.00%       0.000us       0.000us             2  \n",
      "                                  cudaDeviceSynchronize         0.17%       3.100us         0.17%       3.100us       3.100us       0.000us         0.00%       0.000us       0.000us             1  \n",
      "-------------------------------------------------------  ------------  ------------  ------------  ------------  ------------  ------------  ------------  ------------  ------------  ------------  \n",
      "Self CPU time total: 1.800ms\n",
      "Self CUDA time total: 58.209us\n",
      "\n",
      "Profiling: torch\n",
      "-------------------------------------------------------  ------------  ------------  ------------  ------------  ------------  ------------  ------------  ------------  ------------  ------------  \n",
      "                                                   Name    Self CPU %      Self CPU   CPU total %     CPU total  CPU time avg     Self CUDA   Self CUDA %    CUDA total  CUDA time avg    # of Calls  \n",
      "-------------------------------------------------------  ------------  ------------  ------------  ------------  ------------  ------------  ------------  ------------  ------------  ------------  \n",
      "                                          aten::softmax         0.40%       8.280us        99.85%       2.057ms       2.057ms       0.000us         0.00%       8.958us       8.958us             1  \n",
      "                                         aten::_softmax         2.55%      52.550us        99.44%       2.049ms       2.049ms       4.479us       100.00%       8.958us       8.958us             1  \n",
      "                                           Unrecognized        81.24%       1.674ms        81.24%       1.674ms       1.674ms       4.479us       100.00%       4.479us       4.479us             1  \n",
      "void (anonymous namespace)::softmax_warp_forward<flo...         0.00%       0.000us         0.00%       0.000us       0.000us       4.479us       100.00%       4.479us       4.479us             1  \n",
      "                                       cudaLaunchKernel        15.66%     322.555us        15.66%     322.555us     322.555us       0.000us         0.00%       0.000us       0.000us             1  \n",
      "                                  cudaDeviceSynchronize         0.15%       3.170us         0.15%       3.170us       3.170us       0.000us         0.00%       0.000us       0.000us             1  \n",
      "-------------------------------------------------------  ------------  ------------  ------------  ------------  ------------  ------------  ------------  ------------  ------------  ------------  \n",
      "Self CPU time total: 2.060ms\n",
      "Self CUDA time total: 4.479us\n",
      "\n"
     ]
    }
   ],
   "source": [
    "profile_kernels(kernels)\n"
   ]
  },
  {
   "cell_type": "markdown",
   "metadata": {},
   "source": [
    "## Appendix"
   ]
  },
  {
   "cell_type": "code",
   "execution_count": 7,
   "metadata": {},
   "outputs": [],
   "source": [
    "# O = getattr(module, fname)(V)\n",
    "# O_torch = torch.softmax(V,  dim=0)"
   ]
  },
  {
   "cell_type": "code",
   "execution_count": 8,
   "metadata": {},
   "outputs": [],
   "source": [
    "# %%timeit -n 20\n",
    "# getattr(module, fname)(V)"
   ]
  },
  {
   "cell_type": "code",
   "execution_count": 9,
   "metadata": {},
   "outputs": [
    {
     "name": "stdout",
     "output_type": "stream",
     "text": [
      "26.7 μs ± 9.2 μs per loop (mean ± std. dev. of 7 runs, 20 loops each)\n"
     ]
    }
   ],
   "source": [
    "%%timeit -n 20\n",
    "torch.softmax(V,  dim=0)"
   ]
  },
  {
   "cell_type": "code",
   "execution_count": 10,
   "metadata": {},
   "outputs": [],
   "source": [
    "# profile_kernel(torch, \"softmax\", V,  dim=0)"
   ]
  },
  {
   "cell_type": "code",
   "execution_count": 11,
   "metadata": {},
   "outputs": [],
   "source": [
    "# profile_kernel(module, \"softmax\", V)"
   ]
  },
  {
   "cell_type": "code",
   "execution_count": 12,
   "metadata": {},
   "outputs": [],
   "source": [
    "# cuda_source_path = \"./softmax.cu\"\n",
    "# fname = \"softmax_tiled\"\n",
    "# cuda_source = Path(cuda_source_path).read_text()\n",
    "# cpp_source = get_sig(fname, cuda_source)\n",
    "# module = load_cuda(cuda_source, cpp_source, funcs=[fname])"
   ]
  },
  {
   "cell_type": "code",
   "execution_count": 13,
   "metadata": {},
   "outputs": [],
   "source": [
    "# D = 2048**2\n",
    "# V = torch.randn(D).contiguous().cuda()\n",
    "# O = getattr(module, fname)(V)\n",
    "# O_torch = torch.softmax(V,  dim=0)\n",
    "# assert torch.allclose(O, O_torch, atol=1e-4) "
   ]
  },
  {
   "cell_type": "code",
   "execution_count": 14,
   "metadata": {},
   "outputs": [],
   "source": [
    "# %%timeit -n 20\n",
    "# getattr(module, fname)(V)"
   ]
  },
  {
   "cell_type": "code",
   "execution_count": 15,
   "metadata": {},
   "outputs": [],
   "source": [
    "# %%timeit -n 20\n",
    "# torch.softmax(V,  dim=0)"
   ]
  },
  {
   "cell_type": "markdown",
   "metadata": {},
   "source": [
    "# TODO\n",
    "setup the profiling to get info on dram+warps etc (lesson 8?)"
   ]
  }
 ],
 "metadata": {
  "kernelspec": {
   "display_name": ".venv",
   "language": "python",
   "name": "python3"
  },
  "language_info": {
   "codemirror_mode": {
    "name": "ipython",
    "version": 3
   },
   "file_extension": ".py",
   "mimetype": "text/x-python",
   "name": "python",
   "nbconvert_exporter": "python",
   "pygments_lexer": "ipython3",
   "version": "3.12.9"
  }
 },
 "nbformat": 4,
 "nbformat_minor": 2
}
